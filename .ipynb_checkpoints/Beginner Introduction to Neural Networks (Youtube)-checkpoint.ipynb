{
 "cells": [
  {
   "cell_type": "code",
   "execution_count": 2,
   "metadata": {},
   "outputs": [],
   "source": [
    "import numpy as np"
   ]
  },
  {
   "cell_type": "code",
   "execution_count": 3,
   "metadata": {},
   "outputs": [],
   "source": [
    "def NN (m1, m2, w1, w2, b):\n",
    "    z = m1 * w1 + m2 * w2 + b\n",
    "    #sigmoid is usaed just to keep the values between 1 and 0\n",
    "    return sigmoid(z)\n"
   ]
  },
  {
   "cell_type": "code",
   "execution_count": 7,
   "metadata": {},
   "outputs": [],
   "source": [
    "def sigmoid (x):\n",
    "    return 1/(1 + np.exp(-x))"
   ]
  },
  {
   "cell_type": "code",
   "execution_count": 12,
   "metadata": {},
   "outputs": [],
   "source": [
    "#generate rand parameters \n",
    "w1 = np.random.randn()\n",
    "w2 = np.random.randn()\n",
    "b = np.random.randn()"
   ]
  },
  {
   "cell_type": "code",
   "execution_count": 13,
   "metadata": {},
   "outputs": [
    {
     "name": "stdout",
     "output_type": "stream",
     "text": [
      "0.10241386649543269\n"
     ]
    }
   ],
   "source": [
    "print NN(3, 1.5,w1,w2,b)"
   ]
  },
  {
   "cell_type": "code",
   "execution_count": 14,
   "metadata": {},
   "outputs": [
    {
     "name": "stdout",
     "output_type": "stream",
     "text": [
      "0.19880492125271199\n"
     ]
    }
   ],
   "source": [
    "print NN(2, 1,w1,w2,b)"
   ]
  },
  {
   "cell_type": "code",
   "execution_count": 15,
   "metadata": {},
   "outputs": [
    {
     "data": {
      "text/plain": [
       "'\\nCost function --> squared error :\\n    (prediction - target)^2\\n\\nWe have to chnage de prediction in order to minimize the cost  function\\nIt its done by taking derivative of the function with respect of b and subtracting this value from b \\n\\n'"
      ]
     },
     "execution_count": 15,
     "metadata": {},
     "output_type": "execute_result"
    }
   ],
   "source": [
    "'''\n",
    "Cost function --> squared error :\n",
    "    (prediction - target)^2\n",
    "\n",
    "We have to chnage de prediction in order to minimize the cost  function\n",
    "It its done by taking derivative of the function with respect of b and subtracting this value from b \n",
    "\n",
    "'''"
   ]
  },
  {
   "cell_type": "code",
   "execution_count": 24,
   "metadata": {},
   "outputs": [],
   "source": [
    "def cost(b):\n",
    "    return (b - 4) ** 2"
   ]
  },
  {
   "cell_type": "code",
   "execution_count": 29,
   "metadata": {},
   "outputs": [],
   "source": [
    "def slope(b):\n",
    "    return 2*(b - 4)*1"
   ]
  },
  {
   "cell_type": "code",
   "execution_count": 83,
   "metadata": {
    "scrolled": true
   },
   "outputs": [
    {
     "name": "stdout",
     "output_type": "stream",
     "text": [
      "1.65986077576\n",
      "2.12788862061\n",
      "2.50231089649\n",
      "2.80184871719\n",
      "3.04147897375\n",
      "3.233183179\n",
      "3.3865465432\n",
      "3.50923723456\n",
      "3.60738978765\n",
      "3.68591183012\n"
     ]
    }
   ],
   "source": [
    "#Achando o b mínimo \n",
    "b = np.random.randn()\n",
    "for i in range(0,10):\n",
    "    b = b - .1*slope(b)\n",
    "    print b"
   ]
  },
  {
   "cell_type": "code",
   "execution_count": 85,
   "metadata": {},
   "outputs": [
    {
     "data": {
      "text/plain": [
       "'\\nLoss function for linear regression: \\nQuadrado da propaga\\xc3\\xa7\\xc3\\xa3o de erro \\n'"
      ]
     },
     "execution_count": 85,
     "metadata": {},
     "output_type": "execute_result"
    }
   ],
   "source": [
    "###### Time for some linear regression ##################\n",
    "'''\n",
    "Loss function for linear regression: \n",
    "Quadrado da propagação de erro de fisexp\n",
    "\n",
    "Achar o vale da superfície \n",
    "'''"
   ]
  },
  {
   "cell_type": "code",
   "execution_count": null,
   "metadata": {},
   "outputs": [],
   "source": []
  }
 ],
 "metadata": {
  "kernelspec": {
   "display_name": "Python 2",
   "language": "python",
   "name": "python2"
  },
  "language_info": {
   "codemirror_mode": {
    "name": "ipython",
    "version": 2
   },
   "file_extension": ".py",
   "mimetype": "text/x-python",
   "name": "python",
   "nbconvert_exporter": "python",
   "pygments_lexer": "ipython2",
   "version": "2.7.12"
  }
 },
 "nbformat": 4,
 "nbformat_minor": 2
}
